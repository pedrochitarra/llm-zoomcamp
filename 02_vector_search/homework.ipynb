{
 "cells": [
  {
   "cell_type": "markdown",
   "id": "56462b1d",
   "metadata": {},
   "source": [
    "## Homework: Vector Search\n",
    "\n",
    "In this homework, we will learn more about vector search\n",
    "and embedding. Like in the module, we will use Qdrant and\n",
    "fastembed\n",
    "\n",
    "> It's possible that your answers won't match exactly. If it's the case, select the closest one.\n",
    "\n",
    "Note: if you want to learn how vector search works under\n",
    "the hood, check \n",
    "[homework 3 from 2024 cohort (questions 1-4)](../../2024/03-vector-search/homework.md)\n",
    "\n",
    "## Embeddings\n",
    "\n",
    "Qdrant uses [fastembed](https://github.com/qdrant/fastembed)\n",
    "under the hood to turn text into vectors. \n",
    "\n",
    "We will now explore this library\n",
    "\n",
    "Make sure it's installed:\n",
    "\n",
    "```bash\n",
    "pip install fastembed\n",
    "```\n",
    "\n",
    "Import it: \n",
    "\n",
    "```python\n",
    "from fastembed import TextEmbedding\n",
    "```\n",
    "\n",
    "## Q1. Embedding the query\n",
    "\n",
    "Embed the query: `'I just discovered the course. Can I join now?'`.\n",
    "Use the `'jinaai/jina-embeddings-v2-small-en'` model. \n",
    "\n",
    "You should get a numpy array of size 512.\n",
    "\n",
    "What's the minimal value in this array?\n",
    "\n",
    "* -0.51\n",
    "* -0.11\n",
    "* 0\n",
    "* 0.51\n",
    "\n",
    "## Cosine similarity\n",
    "\n",
    "The vectors that our embedding model returns are already normalized: their length is 1.0.\n",
    "\n",
    "You can check that by using the `norm` function:\n",
    "\n",
    "```python\n",
    "import numpy as np\n",
    "np.linalg.norm(q)\n",
    "```\n",
    "\n",
    "Which means that we can simply compute the dot product between\n",
    "two vectors to learn the cosine similarity between them.\n",
    "\n",
    "For example, if you compute the cosine of the query vector with itself, the result will be 1.0:\n",
    "\n",
    "```python\n",
    "q.dot(q)\n",
    "```"
   ]
  },
  {
   "cell_type": "code",
   "execution_count": 150,
   "id": "ccfc9b18",
   "metadata": {},
   "outputs": [],
   "source": [
    "from fastembed import TextEmbedding\n",
    "from qdrant_client import QdrantClient, models\n",
    "import json\n",
    "import numpy as np\n",
    "\n",
    "\n",
    "EMBEDDING_DIMENSIONALITY = 512\n",
    "\n",
    "model_handle = \"jinaai/jina-embeddings-v2-small-en\"\n",
    "id = 0\n",
    "text = 'I just discovered the course. Can I join now?'\n",
    "model = TextEmbedding(model_name=model_handle)\n",
    "embedding = list(model.embed(text))"
   ]
  },
  {
   "cell_type": "code",
   "execution_count": 151,
   "id": "db1aaa3d",
   "metadata": {},
   "outputs": [
    {
     "data": {
      "text/plain": [
       "512"
      ]
     },
     "execution_count": 151,
     "metadata": {},
     "output_type": "execute_result"
    }
   ],
   "source": [
    "len(embedding[0])"
   ]
  },
  {
   "cell_type": "code",
   "execution_count": 152,
   "id": "abbed6c1",
   "metadata": {},
   "outputs": [
    {
     "data": {
      "text/plain": [
       "np.float64(1.0)"
      ]
     },
     "execution_count": 152,
     "metadata": {},
     "output_type": "execute_result"
    }
   ],
   "source": [
    "np.linalg.norm(embedding)"
   ]
  },
  {
   "cell_type": "code",
   "execution_count": 153,
   "id": "3e64bf4a",
   "metadata": {},
   "outputs": [
    {
     "data": {
      "text/plain": [
       "np.float64(-0.11726373885183883)"
      ]
     },
     "execution_count": 153,
     "metadata": {},
     "output_type": "execute_result"
    }
   ],
   "source": [
    "np.min(embedding)"
   ]
  },
  {
   "cell_type": "markdown",
   "id": "a6b92dc9",
   "metadata": {},
   "source": [
    "**-0.11**"
   ]
  },
  {
   "cell_type": "markdown",
   "id": "a7926295",
   "metadata": {},
   "source": [
    "## Q2. Cosine similarity with another vector\n",
    "\n",
    "Now let's embed this document:\n",
    "\n",
    "```python\n",
    "doc = 'Can I still join the course after the start date?'\n",
    "```\n",
    "\n",
    "What's the cosine similarity between the vector for the query\n",
    "and the vector for the document?\n",
    "\n",
    "* 0.3\n",
    "* 0.5\n",
    "* 0.7\n",
    "* 0.9"
   ]
  },
  {
   "cell_type": "code",
   "execution_count": 154,
   "id": "59d4a816",
   "metadata": {},
   "outputs": [],
   "source": [
    "query = 'I just discovered the course. Can I join now?'\n",
    "query_embedding = list(model.embed(query))\n",
    "\n",
    "doc = 'Can I still join the course after the start date?'\n",
    "document_embedding = list(model.embed(doc))\n",
    "\n"
   ]
  },
  {
   "cell_type": "code",
   "execution_count": 155,
   "id": "a3096c4f",
   "metadata": {},
   "outputs": [
    {
     "data": {
      "text/plain": [
       "np.float64(0.9008528895674548)"
      ]
     },
     "execution_count": 155,
     "metadata": {},
     "output_type": "execute_result"
    }
   ],
   "source": [
    "np.array(query_embedding[0]).dot(np.array(document_embedding[0]))"
   ]
  },
  {
   "cell_type": "markdown",
   "id": "ad599b03",
   "metadata": {},
   "source": [
    "**0.9**"
   ]
  },
  {
   "cell_type": "markdown",
   "id": "b6d241fe",
   "metadata": {},
   "source": [
    "## Q3. Ranking by cosine\n",
    "\n",
    "For Q3 and Q4 we will use these documents:\n",
    "\n",
    "```python\n",
    "documents = [{'text': \"Yes, even if you don't register, you're still eligible to submit the homeworks.\\nBe aware, however, that there will be deadlines for turning in the final projects. So don't leave everything for the last minute.\",\n",
    "  'section': 'General course-related questions',\n",
    "  'question': 'Course - Can I still join the course after the start date?',\n",
    "  'course': 'data-engineering-zoomcamp'},\n",
    " {'text': 'Yes, we will keep all the materials after the course finishes, so you can follow the course at your own pace after it finishes.\\nYou can also continue looking at the homeworks and continue preparing for the next cohort. I guess you can also start working on your final capstone project.',\n",
    "  'section': 'General course-related questions',\n",
    "  'question': 'Course - Can I follow the course after it finishes?',\n",
    "  'course': 'data-engineering-zoomcamp'},\n",
    " {'text': \"The purpose of this document is to capture frequently asked technical questions\\nThe exact day and hour of the course will be 15th Jan 2024 at 17h00. The course will start with the first  “Office Hours'' live.1\\nSubscribe to course public Google Calendar (it works from Desktop only).\\nRegister before the course starts using this link.\\nJoin the course Telegram channel with announcements.\\nDon’t forget to register in DataTalks.Club's Slack and join the channel.\",\n",
    "  'section': 'General course-related questions',\n",
    "  'question': 'Course - When will the course start?',\n",
    "  'course': 'data-engineering-zoomcamp'},\n",
    " {'text': 'You can start by installing and setting up all the dependencies and requirements:\\nGoogle cloud account\\nGoogle Cloud SDK\\nPython 3 (installed with Anaconda)\\nTerraform\\nGit\\nLook over the prerequisites and syllabus to see if you are comfortable with these subjects.',\n",
    "  'section': 'General course-related questions',\n",
    "  'question': 'Course - What can I do before the course starts?',\n",
    "  'course': 'data-engineering-zoomcamp'},\n",
    " {'text': 'Star the repo! Share it with friends if you find it useful ❣️\\nCreate a PR if you see you can improve the text or the structure of the repository.',\n",
    "  'section': 'General course-related questions',\n",
    "  'question': 'How can we contribute to the course?',\n",
    "  'course': 'data-engineering-zoomcamp'}]\n",
    "```\n",
    "\n",
    "Compute the embeddings for the text field, and compute the \n",
    "cosine between the query vector and all the documents.\n",
    "\n",
    "What's the document index with the highest similarity? (Indexing starts from 0):\n",
    "\n",
    "- 0\n",
    "- 1\n",
    "- 2\n",
    "- 3\n",
    "- 4\n",
    "\n",
    "Hint: if you put all the embeddings of the text field in one matrix `V` (a single 2-dimensional numpy array), then\n",
    "computing the cosine becomes a matrix multiplication:\n",
    "\n",
    "```python\n",
    "V.dot(q)\n",
    "```\n",
    "\n",
    "If this hint is rather confusing you than helping, feel free\n",
    "to ignore it."
   ]
  },
  {
   "cell_type": "code",
   "execution_count": 156,
   "id": "33f711c6",
   "metadata": {},
   "outputs": [],
   "source": [
    "documents = [{'text': \"Yes, even if you don't register, you're still eligible to submit the homeworks.\\nBe aware, however, that there will be deadlines for turning in the final projects. So don't leave everything for the last minute.\",\n",
    "  'section': 'General course-related questions',\n",
    "  'question': 'Course - Can I still join the course after the start date?',\n",
    "  'course': 'data-engineering-zoomcamp'},\n",
    " {'text': 'Yes, we will keep all the materials after the course finishes, so you can follow the course at your own pace after it finishes.\\nYou can also continue looking at the homeworks and continue preparing for the next cohort. I guess you can also start working on your final capstone project.',\n",
    "  'section': 'General course-related questions',\n",
    "  'question': 'Course - Can I follow the course after it finishes?',\n",
    "  'course': 'data-engineering-zoomcamp'},\n",
    " {'text': \"The purpose of this document is to capture frequently asked technical questions\\nThe exact day and hour of the course will be 15th Jan 2024 at 17h00. The course will start with the first  “Office Hours'' live.1\\nSubscribe to course public Google Calendar (it works from Desktop only).\\nRegister before the course starts using this link.\\nJoin the course Telegram channel with announcements.\\nDon’t forget to register in DataTalks.Club's Slack and join the channel.\",\n",
    "  'section': 'General course-related questions',\n",
    "  'question': 'Course - When will the course start?',\n",
    "  'course': 'data-engineering-zoomcamp'},\n",
    " {'text': 'You can start by installing and setting up all the dependencies and requirements:\\nGoogle cloud account\\nGoogle Cloud SDK\\nPython 3 (installed with Anaconda)\\nTerraform\\nGit\\nLook over the prerequisites and syllabus to see if you are comfortable with these subjects.',\n",
    "  'section': 'General course-related questions',\n",
    "  'question': 'Course - What can I do before the course starts?',\n",
    "  'course': 'data-engineering-zoomcamp'},\n",
    " {'text': 'Star the repo! Share it with friends if you find it useful ❣️\\nCreate a PR if you see you can improve the text or the structure of the repository.',\n",
    "  'section': 'General course-related questions',\n",
    "  'question': 'How can we contribute to the course?',\n",
    "  'course': 'data-engineering-zoomcamp'}]"
   ]
  },
  {
   "cell_type": "code",
   "execution_count": 157,
   "id": "2d66bbdd",
   "metadata": {},
   "outputs": [],
   "source": [
    "documents_embeddings = list(model.embed([doc['text'] for doc in documents]))"
   ]
  },
  {
   "cell_type": "code",
   "execution_count": 158,
   "id": "e50e93f0",
   "metadata": {},
   "outputs": [
    {
     "data": {
      "text/plain": [
       "(5, 512)"
      ]
     },
     "execution_count": 158,
     "metadata": {},
     "output_type": "execute_result"
    }
   ],
   "source": [
    "documents_embeddings = np.array(documents_embeddings)\n",
    "documents_embeddings.shape"
   ]
  },
  {
   "cell_type": "code",
   "execution_count": 159,
   "id": "60d3c9f0",
   "metadata": {},
   "outputs": [
    {
     "data": {
      "text/plain": [
       "(512,)"
      ]
     },
     "execution_count": 159,
     "metadata": {},
     "output_type": "execute_result"
    }
   ],
   "source": [
    "query_embedding = list(model.embed(query))\n",
    "query_vector = np.array(query_embedding[0])\n",
    "query_vector.shape"
   ]
  },
  {
   "cell_type": "code",
   "execution_count": 160,
   "id": "ea513268",
   "metadata": {},
   "outputs": [
    {
     "data": {
      "text/plain": [
       "array([0.76296845, 0.81823782, 0.80853974, 0.71330788, 0.73044992])"
      ]
     },
     "execution_count": 160,
     "metadata": {},
     "output_type": "execute_result"
    }
   ],
   "source": [
    "documents_embeddings.dot(query_vector)"
   ]
  },
  {
   "cell_type": "code",
   "execution_count": 161,
   "id": "a059c8ce",
   "metadata": {},
   "outputs": [
    {
     "data": {
      "text/plain": [
       "np.int64(1)"
      ]
     },
     "execution_count": 161,
     "metadata": {},
     "output_type": "execute_result"
    }
   ],
   "source": [
    "np.argmax(documents_embeddings.dot(query_vector))"
   ]
  },
  {
   "cell_type": "markdown",
   "id": "c89fe15e",
   "metadata": {},
   "source": [
    "**1**"
   ]
  },
  {
   "cell_type": "markdown",
   "id": "1eac7458",
   "metadata": {},
   "source": [
    "## Q4. Ranking by cosine, version two\n",
    "\n",
    "Now let's calculate a new field, which is a concatenation of\n",
    "`question` and `text`:\n",
    "\n",
    "```python\n",
    "full_text = doc['question'] + ' ' + doc['text']\n",
    "``` \n",
    "\n",
    "Embed this field and compute the cosine between it and the\n",
    "query vector. What's the highest scoring document?\n",
    "\n",
    "- 0\n",
    "- 1\n",
    "- 2\n",
    "- 3\n",
    "- 4\n",
    "\n",
    "Is it different from Q3? If yes, why?"
   ]
  },
  {
   "cell_type": "code",
   "execution_count": 162,
   "id": "efbdf410",
   "metadata": {},
   "outputs": [
    {
     "data": {
      "text/plain": [
       "(5, 512)"
      ]
     },
     "execution_count": 162,
     "metadata": {},
     "output_type": "execute_result"
    }
   ],
   "source": [
    "documents_embeddings = list(model.embed([doc['question'] + doc['text'] for doc in documents]))\n",
    "documents_embeddings = np.array(documents_embeddings)\n",
    "documents_embeddings.shape"
   ]
  },
  {
   "cell_type": "code",
   "execution_count": 163,
   "id": "d245c5ac",
   "metadata": {},
   "outputs": [
    {
     "data": {
      "text/plain": [
       "array([0.85145432, 0.8436594 , 0.84082872, 0.77551577, 0.80860079])"
      ]
     },
     "execution_count": 163,
     "metadata": {},
     "output_type": "execute_result"
    }
   ],
   "source": [
    "documents_embeddings.dot(query_vector)"
   ]
  },
  {
   "cell_type": "code",
   "execution_count": 164,
   "id": "031d3268",
   "metadata": {},
   "outputs": [
    {
     "data": {
      "text/plain": [
       "np.int64(0)"
      ]
     },
     "execution_count": 164,
     "metadata": {},
     "output_type": "execute_result"
    }
   ],
   "source": [
    "np.argmax(documents_embeddings.dot(query_vector))"
   ]
  },
  {
   "cell_type": "markdown",
   "id": "f8ab1166",
   "metadata": {},
   "source": [
    "**0**"
   ]
  },
  {
   "cell_type": "markdown",
   "id": "d9971d7d",
   "metadata": {},
   "source": [
    "## Q5. Selecting the embedding model\n",
    "\n",
    "Now let's select a smaller embedding model.\n",
    "What's the smallest dimensionality for models in fastembed?\n",
    "\n",
    "- 128\n",
    "- 256\n",
    "- 384\n",
    "- 512\n",
    "\n",
    "One of these models is `BAAI/bge-small-en`. Let's use it."
   ]
  },
  {
   "cell_type": "code",
   "execution_count": 165,
   "id": "350daa78",
   "metadata": {},
   "outputs": [
    {
     "data": {
      "text/plain": [
       "np.int64(384)"
      ]
     },
     "execution_count": 165,
     "metadata": {},
     "output_type": "execute_result"
    }
   ],
   "source": [
    "models_size = [model[\"dim\"] for model in TextEmbedding.list_supported_models()]\n",
    "np.min(models_size)"
   ]
  },
  {
   "cell_type": "markdown",
   "id": "de516f66",
   "metadata": {},
   "source": [
    "**384**"
   ]
  },
  {
   "cell_type": "markdown",
   "id": "a4d12e60",
   "metadata": {},
   "source": [
    "## Q6. Indexing with qdrant (2 points)\n",
    "\n",
    "For the last question, we will use more documents.\n",
    "\n",
    "We will select only FAQ records from our ml zoomcamp:\n",
    "\n",
    "```python\n",
    "import requests \n",
    "\n",
    "docs_url = 'https://github.com/alexeygrigorev/llm-rag-workshop/raw/main/notebooks/documents.json'\n",
    "docs_response = requests.get(docs_url)\n",
    "documents_raw = docs_response.json()\n",
    "\n",
    "\n",
    "documents = []\n",
    "\n",
    "for course in documents_raw:\n",
    "    course_name = course['course']\n",
    "    if course_name != 'machine-learning-zoomcamp':\n",
    "        continue\n",
    "\n",
    "    for doc in course['documents']:\n",
    "        doc['course'] = course_name\n",
    "        documents.append(doc)\n",
    "```\n",
    "\n",
    "Add them to qdrant using the model form Q5.\n",
    "\n",
    "When adding the data, use both question and answer fields:\n",
    "\n",
    "```python\n",
    "text = doc['question'] + ' ' + doc['text']\n",
    "```\n",
    "\n",
    "After the data is inserted, use the question from Q1 for querying the collection.\n",
    "\n",
    "What's the highest score in the results?\n",
    "(The score for the first returned record):\n",
    "\n",
    "- 0.97\n",
    "- 0.87\n",
    "- 0.77\n",
    "- 0.67"
   ]
  },
  {
   "cell_type": "code",
   "execution_count": 166,
   "id": "420e24aa",
   "metadata": {},
   "outputs": [],
   "source": [
    "import requests \n",
    "\n",
    "docs_url = 'https://github.com/alexeygrigorev/llm-rag-workshop/raw/main/notebooks/documents.json'\n",
    "docs_response = requests.get(docs_url)\n",
    "documents_raw = docs_response.json()\n",
    "\n",
    "\n",
    "documents = []\n",
    "\n",
    "for course in documents_raw:\n",
    "    course_name = course['course']\n",
    "    if course_name != 'machine-learning-zoomcamp':\n",
    "        continue\n",
    "\n",
    "    for doc in course['documents']:\n",
    "        doc['course'] = course_name\n",
    "        documents.append(doc)"
   ]
  },
  {
   "cell_type": "code",
   "execution_count": 167,
   "id": "50166533",
   "metadata": {},
   "outputs": [],
   "source": [
    "from qdrant_client import QdrantClient, models\n",
    "\n",
    "\n",
    "client = QdrantClient(\"http://localhost:6333\") #connecting to local Qdrant instance"
   ]
  },
  {
   "cell_type": "code",
   "execution_count": 168,
   "id": "18ae0f54",
   "metadata": {},
   "outputs": [
    {
     "data": {
      "text/plain": [
       "UpdateResult(operation_id=2, status=<UpdateStatus.COMPLETED: 'completed'>)"
      ]
     },
     "execution_count": 168,
     "metadata": {},
     "output_type": "execute_result"
    }
   ],
   "source": [
    "id = 0\n",
    "model_handle = \"BAAI/bge-small-en\"\n",
    "collection_name = \"zoomcamp-rag-baai\"\n",
    "\n",
    "# Get list of collections\n",
    "collections = client.get_collections().collections\n",
    "\n",
    "# Check if the collection exists\n",
    "exists = any(c.name == collection_name for c in collections)\n",
    "\n",
    "# Check if collection already exists\n",
    "if not exists:\n",
    "    # If it doesn't exist, create the collection with specified vector parameters\n",
    "    client.create_collection(\n",
    "        collection_name=collection_name,\n",
    "        vectors_config=models.VectorParams(\n",
    "            size=384,  # Dimensionality of the vectors\n",
    "            distance=models.Distance.COSINE  # Distance metric for similarity search\n",
    "        )\n",
    "    )\n",
    "\n",
    "\n",
    "documents_points = []\n",
    "for document in documents:\n",
    "    point = models.PointStruct(\n",
    "        id=id,\n",
    "        # embed text locally with \"jinaai/jina-embeddings-v2-small-en\" from FastEmbed\n",
    "        vector=models.Document(text=document['question'] + document['text'], model=model_handle),\n",
    "    )\n",
    "    documents_points.append(point)\n",
    "    id += 1\n",
    "\n",
    "\n",
    "query = 'I just discovered the course. Can I join now?'\n",
    "client.upsert(\n",
    "    collection_name=collection_name,\n",
    "    points=documents_points\n",
    ")"
   ]
  },
  {
   "cell_type": "code",
   "execution_count": 169,
   "id": "d70d8666",
   "metadata": {},
   "outputs": [],
   "source": [
    "def search(query, limit=1):\n",
    "\n",
    "    results = client.query_points(\n",
    "        collection_name=collection_name,\n",
    "        query=models.Document( #embed the query text locally with \"jinaai/jina-embeddings-v2-small-en\"\n",
    "            text=query,\n",
    "            model=model_handle \n",
    "        ),\n",
    "        limit=limit, # top closest matches\n",
    "        with_payload=True #to get metadata in the results\n",
    "    )\n",
    "\n",
    "    return results"
   ]
  },
  {
   "cell_type": "code",
   "execution_count": 170,
   "id": "967193d7",
   "metadata": {},
   "outputs": [],
   "source": [
    "result = search(query, limit=5)"
   ]
  },
  {
   "cell_type": "code",
   "execution_count": 171,
   "id": "61f2d0ba",
   "metadata": {},
   "outputs": [
    {
     "data": {
      "text/plain": [
       "QueryResponse(points=[ScoredPoint(id=15014, version=0, score=0.87031734, payload={}, vector=None, shard_key=None, order_value=None), ScoredPoint(id=14, version=2, score=0.87031734, payload={}, vector=None, shard_key=None, order_value=None), ScoredPoint(id=6, version=2, score=0.8691884, payload={}, vector=None, shard_key=None, order_value=None), ScoredPoint(id=15006, version=0, score=0.8691884, payload={}, vector=None, shard_key=None, order_value=None), ScoredPoint(id=15013, version=0, score=0.8683311, payload={}, vector=None, shard_key=None, order_value=None)])"
      ]
     },
     "execution_count": 171,
     "metadata": {},
     "output_type": "execute_result"
    }
   ],
   "source": [
    "result"
   ]
  },
  {
   "cell_type": "markdown",
   "id": "6d0b5086",
   "metadata": {},
   "source": [
    "**0.87**"
   ]
  },
  {
   "cell_type": "markdown",
   "id": "e999e0bb",
   "metadata": {},
   "source": [
    "## Submit the results\n",
    "\n",
    "* Submit your results here: https://courses.datatalks.club/llm-zoomcamp-2025/homework/hw2\n",
    "* It's possible that your answers won't match exactly. If it's the case, select the closest one."
   ]
  }
 ],
 "metadata": {
  "kernelspec": {
   "display_name": "llmzoomcamp",
   "language": "python",
   "name": "python3"
  },
  "language_info": {
   "codemirror_mode": {
    "name": "ipython",
    "version": 3
   },
   "file_extension": ".py",
   "mimetype": "text/x-python",
   "name": "python",
   "nbconvert_exporter": "python",
   "pygments_lexer": "ipython3",
   "version": "3.10.0"
  }
 },
 "nbformat": 4,
 "nbformat_minor": 5
}
